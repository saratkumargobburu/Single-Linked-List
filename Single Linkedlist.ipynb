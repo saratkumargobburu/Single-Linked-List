{
 "cells": [
  {
   "cell_type": "markdown",
   "id": "39bb2493",
   "metadata": {},
   "source": [
    "# Single Linked List"
   ]
  },
  {
   "cell_type": "code",
   "execution_count": 2,
   "id": "98c93456",
   "metadata": {},
   "outputs": [
    {
     "name": "stdout",
     "output_type": "stream",
     "text": [
      "the linked list is empty\n"
     ]
    }
   ],
   "source": [
    "#Creation of the node\n",
    "class Node:\n",
    "    def __init__(self,data):\n",
    "        self.data=data      #An Node is genereted with data and link is None\n",
    "        self.link=None\n",
    "class linkedlist:\n",
    "    def __init__(self):\n",
    "        self.start=None  #head of the lisked list holdes none for emptylist\n",
    "        if self.start is None:\n",
    "            print(\"the linked list is empty\")\n",
    "obj=linkedlist()\n",
    "\n",
    "            "
   ]
  },
  {
   "cell_type": "code",
   "execution_count": 9,
   "id": "b2b610e5",
   "metadata": {},
   "outputs": [],
   "source": [
    "#Traversing in the linked list:\n",
    "class Node:\n",
    "    def __init__(self,data):\n",
    "        self.data=data\n",
    "        self.link=None\n",
    "class Linkedlist:\n",
    "    def __init__(self):\n",
    "        self.start=None\n",
    "        if self.start is None:\n",
    "            print(\"there is no node is present in the list\")\n",
    "        else:\n",
    "            ptr=self.start #create a pointer which holds the address of start\n",
    "            while(ptr):  #it means if ptr is none then terminate the loop\n",
    "                print(ptr.data,end=\"->\")\n",
    "                ptr=ptr.link\n",
    "obj=linkedlist()\n",
    "            "
   ]
  },
  {
   "cell_type": "code",
   "execution_count": 16,
   "id": "8e070384",
   "metadata": {},
   "outputs": [
    {
     "name": "stdout",
     "output_type": "stream",
     "text": [
      "3->2->1->None"
     ]
    }
   ],
   "source": [
    "#Insertion an element into the beginning of linked list\n",
    "#fallow step 2 and 3\n",
    "class Node:\n",
    "    def __init__(self,data):\n",
    "        self.data=data\n",
    "        self.link=None\n",
    "class linkedlist:\n",
    "    def __init__(self):\n",
    "        self.start=None\n",
    "    def push(self,data):\n",
    "        new_node = Node(data) #Creation of the new node\n",
    "        new_node.link=self.start  #the link of new node will be start\n",
    "        self.start=new_node   #Now the start hoding the value of new node\n",
    "    def Traverse(self):\n",
    "        if self.start is None:\n",
    "            print(\"there is no element in the list\") #checking the list is empty\n",
    "        else:\n",
    "            ptr=self.start\n",
    "            while(ptr):\n",
    "                print(ptr.data,end=\"->\") #traversing\n",
    "                ptr=ptr.link\n",
    "        print(\"None\",end=\"\")\n",
    "obj=linkedlist()\n",
    "obj.push(1)\n",
    "obj.push(2)  #function call with parameters\n",
    "obj.push(3)\n",
    "obj.Traverse()\n",
    "        "
   ]
  },
  {
   "cell_type": "code",
   "execution_count": 18,
   "id": "94e24cd7",
   "metadata": {},
   "outputs": [
    {
     "name": "stdout",
     "output_type": "stream",
     "text": [
      "3->2->1->4->"
     ]
    }
   ],
   "source": [
    "#insertion at end\n",
    "class Node:\n",
    "    def __init__(self,data):\n",
    "        self.data=data\n",
    "        self.link=None\n",
    "class linkedlist:\n",
    "    def __init__(self):\n",
    "        self.start=None\n",
    "    def push(self,data):\n",
    "        new_node = Node(data) #Creation of the new node\n",
    "        new_node.link=self.start  #the link of new node will be start\n",
    "        self.start=new_node\n",
    "    def append(self,data):\n",
    "        new_node = Node(data)\n",
    "        ptr=self.start\n",
    "        while(ptr.link):\n",
    "            ptr=ptr.link\n",
    "        ptr.link=new_node\n",
    "    def Traverse(self):\n",
    "        if self.start is None:\n",
    "            print(\"there is no element in it\")\n",
    "        else:\n",
    "            ptr=self.start\n",
    "            while(ptr):\n",
    "                print(ptr.data,end=\"->\")\n",
    "                ptr=ptr.link\n",
    "obj=linkedlist()\n",
    "obj.push(1)\n",
    "obj.push(2)  #function call with parameters\n",
    "obj.push(3)\n",
    "obj.append(4)\n",
    "obj.Traverse()"
   ]
  },
  {
   "cell_type": "code",
   "execution_count": null,
   "id": "f70ade2a",
   "metadata": {},
   "outputs": [],
   "source": [
    "#insertion at specific location\n",
    "class Node:\n",
    "    def __init__(self,data):\n",
    "        self.data=data\n",
    "        self.start=None\n",
    "class Linkedlist:\n",
    "    def __init__(self):\n",
    "        self.start=None\n",
    "    def push(self,data):\n",
    "        new_node=Node(data)\n",
    "        new_node.link=self.start\n",
    "        self.start=new_node\n",
    "    def insertAfter(self, prev_node, new_data):\n",
    "        if prev_node is None:\n",
    "            print(\"The given previous node must inLinkedList.\")\n",
    "            return\n",
    "        new_node = Node(new_data)\n",
    "        new_node.link = prev_node.link\n",
    "        prev_node.link = new_node\n",
    "    def Traverse(self):\n",
    "        if self.start is None:\n",
    "            print(\"it is a empty list\")\n",
    "        else:\n",
    "            ptr=self.start\n",
    "            while(ptr):\n",
    "                print(ptr.data,end=\"->\")\n",
    "                ptr=ptr.link\n",
    "\n",
    "obj=linkedlist()\n",
    "obj.push(1)\n",
    "obj.push(2)  #function call with parameters\n",
    "obj.push(3)\n",
    "obj.insertAfter(obj.start.link,9)\n",
    "obj.Traverse()"
   ]
  },
  {
   "cell_type": "code",
   "execution_count": 1,
   "id": "0b73851d",
   "metadata": {},
   "outputs": [
    {
     "name": "stdout",
     "output_type": "stream",
     "text": [
      "2->1->"
     ]
    }
   ],
   "source": [
    "#Deletion on list\n",
    "class Node:\n",
    "    def __init__(self,data):\n",
    "        self.data=data\n",
    "        self.link=None\n",
    "class linkedlist:\n",
    "    def __init__(self):\n",
    "        self.start=None\n",
    "    def push(self,data):\n",
    "        new_node = Node(data) #Creation of the new node\n",
    "        new_node.link=self.start  #the link of new node will be start\n",
    "        self.start=new_node\n",
    "    def append(self,data):\n",
    "        new_node = Node(data)\n",
    "        ptr=self.start\n",
    "        while(ptr.link):\n",
    "            ptr=ptr.link\n",
    "        ptr.link=new_node\n",
    "    def deletion_beg(self):\n",
    "        ptr=self.start\n",
    "        self.start=ptr.link\n",
    "        ptr=None\n",
    "    def Traverse(self):\n",
    "        if self.start is None:\n",
    "            print(\"it is a empty list\")\n",
    "        else:\n",
    "            ptr=self.start\n",
    "            while(ptr):\n",
    "                print(ptr.data,end=\"->\")\n",
    "                ptr=ptr.link\n",
    "\n",
    "obj=linkedlist()\n",
    "obj.push(1)\n",
    "obj.push(2)  #function call with parameters\n",
    "obj.push(3)\n",
    "obj.deletion_beg()\n",
    "obj.Traverse()  "
   ]
  },
  {
   "cell_type": "code",
   "execution_count": 2,
   "id": "667d3eee",
   "metadata": {},
   "outputs": [
    {
     "name": "stdout",
     "output_type": "stream",
     "text": [
      "3->2->"
     ]
    }
   ],
   "source": [
    "class Node:\n",
    "    def __init__(self,data):\n",
    "        self.data=data\n",
    "        self.link=None\n",
    "class linkedlist:\n",
    "    def __init__(self):\n",
    "        self.start=None\n",
    "    def push(self,data):\n",
    "        new_node = Node(data) #Creation of the new node\n",
    "        new_node.link=self.start  #the link of new node will be start\n",
    "        self.start=new_node\n",
    "    def append(self,data):\n",
    "        new_node = Node(data)\n",
    "        ptr=self.start\n",
    "        while(ptr.link):\n",
    "            ptr=ptr.link\n",
    "        ptr.link=new_node\n",
    "    def deletion_end(self):\n",
    "        ptr=self.start\n",
    "        while(ptr.link):\n",
    "            prev=ptr\n",
    "            ptr=ptr.link\n",
    "        prev.link=None\n",
    "        ptr=None\n",
    "    def Traverse(self):\n",
    "        if self.start is None:\n",
    "            print(\"it is a empty list\")\n",
    "        else:\n",
    "            ptr=self.start\n",
    "            while(ptr):\n",
    "                print(ptr.data,end=\"->\")\n",
    "                ptr=ptr.link\n",
    "    \n",
    "\n",
    "obj=linkedlist()\n",
    "obj.push(1)\n",
    "obj.push(2)  #function call with parameters\n",
    "obj.push(3)\n",
    "obj.deletion_end()\n",
    "obj.Traverse()       "
   ]
  },
  {
   "cell_type": "code",
   "execution_count": null,
   "id": "283a4f8e",
   "metadata": {},
   "outputs": [],
   "source": []
  }
 ],
 "metadata": {
  "kernelspec": {
   "display_name": "Python 3 (ipykernel)",
   "language": "python",
   "name": "python3"
  },
  "language_info": {
   "codemirror_mode": {
    "name": "ipython",
    "version": 3
   },
   "file_extension": ".py",
   "mimetype": "text/x-python",
   "name": "python",
   "nbconvert_exporter": "python",
   "pygments_lexer": "ipython3",
   "version": "3.9.7"
  }
 },
 "nbformat": 4,
 "nbformat_minor": 5
}
